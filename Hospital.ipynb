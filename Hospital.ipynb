{
 "cells": [
  {
   "cell_type": "code",
   "execution_count": 3,
   "id": "a6588c82-2e2a-4cb6-aff7-7318aea5e6f1",
   "metadata": {},
   "outputs": [],
   "source": [
    "import pandas as pd\n",
    "import numpy as np\n",
    "import matplotlib.pyplot as plt\n",
    "import seaborn as sns\n",
    "import re"
   ]
  },
  {
   "cell_type": "code",
   "execution_count": 4,
   "id": "ffe52ef9-1093-42fe-9fd8-1ce7e596d858",
   "metadata": {},
   "outputs": [],
   "source": [
    "encounters=pd.read_csv(r'C:\\Users\\shivani\\Downloads\\Hospital+Patient+Records\\encounters.csv')\n",
    "organization=pd.read_csv(r'C:\\Users\\shivani\\Downloads\\Hospital+Patient+Records\\organizations.csv')\n",
    "patients=pd.read_csv(r'C:\\Users\\shivani\\Downloads\\Hospital+Patient+Records\\patients.csv')\n",
    "payer=pd.read_csv(r'C:\\Users\\shivani\\Downloads\\Hospital+Patient+Records\\payers.csv')\n",
    "procedure=pd.read_csv(r'C:\\Users\\shivani\\Downloads\\Hospital+Patient+Records\\procedures.csv')"
   ]
  },
  {
   "cell_type": "code",
   "execution_count": 5,
   "id": "e0fe1456-62b3-4229-9ceb-ae321a3d0eb4",
   "metadata": {},
   "outputs": [
    {
     "data": {
      "text/html": [
       "<div>\n",
       "<style scoped>\n",
       "    .dataframe tbody tr th:only-of-type {\n",
       "        vertical-align: middle;\n",
       "    }\n",
       "\n",
       "    .dataframe tbody tr th {\n",
       "        vertical-align: top;\n",
       "    }\n",
       "\n",
       "    .dataframe thead th {\n",
       "        text-align: right;\n",
       "    }\n",
       "</style>\n",
       "<table border=\"1\" class=\"dataframe\">\n",
       "  <thead>\n",
       "    <tr style=\"text-align: right;\">\n",
       "      <th></th>\n",
       "      <th>Id</th>\n",
       "      <th>START</th>\n",
       "      <th>STOP</th>\n",
       "      <th>PATIENT</th>\n",
       "      <th>ORGANIZATION</th>\n",
       "      <th>PAYER</th>\n",
       "      <th>ENCOUNTERCLASS</th>\n",
       "      <th>CODE</th>\n",
       "      <th>DESCRIPTION</th>\n",
       "      <th>BASE_ENCOUNTER_COST</th>\n",
       "      <th>TOTAL_CLAIM_COST</th>\n",
       "      <th>PAYER_COVERAGE</th>\n",
       "      <th>REASONCODE</th>\n",
       "      <th>REASONDESCRIPTION</th>\n",
       "    </tr>\n",
       "  </thead>\n",
       "  <tbody>\n",
       "    <tr>\n",
       "      <th>0</th>\n",
       "      <td>32c84703-2481-49cd-d571-3899d5820253</td>\n",
       "      <td>2011-01-02T09:26:36Z</td>\n",
       "      <td>2011-01-02T12:58:36Z</td>\n",
       "      <td>3de74169-7f67-9304-91d4-757e0f3a14d2</td>\n",
       "      <td>d78e84ec-30aa-3bba-a33a-f29a3a454662</td>\n",
       "      <td>b1c428d6-4f07-31e0-90f0-68ffa6ff8c76</td>\n",
       "      <td>ambulatory</td>\n",
       "      <td>185347001</td>\n",
       "      <td>Encounter for problem (procedure)</td>\n",
       "      <td>85.55</td>\n",
       "      <td>1018.02</td>\n",
       "      <td>0.00</td>\n",
       "      <td>NaN</td>\n",
       "      <td>NaN</td>\n",
       "    </tr>\n",
       "    <tr>\n",
       "      <th>1</th>\n",
       "      <td>c98059da-320a-c0a6-fced-c8815f3e3f39</td>\n",
       "      <td>2011-01-03T05:44:39Z</td>\n",
       "      <td>2011-01-03T06:01:42Z</td>\n",
       "      <td>d9ec2e44-32e9-9148-179a-1653348cc4e2</td>\n",
       "      <td>d78e84ec-30aa-3bba-a33a-f29a3a454662</td>\n",
       "      <td>b1c428d6-4f07-31e0-90f0-68ffa6ff8c76</td>\n",
       "      <td>outpatient</td>\n",
       "      <td>308335008</td>\n",
       "      <td>Patient encounter procedure</td>\n",
       "      <td>142.58</td>\n",
       "      <td>2619.36</td>\n",
       "      <td>0.00</td>\n",
       "      <td>NaN</td>\n",
       "      <td>NaN</td>\n",
       "    </tr>\n",
       "    <tr>\n",
       "      <th>2</th>\n",
       "      <td>4ad28a3a-2479-782b-f29c-d5b3f41a001e</td>\n",
       "      <td>2011-01-03T14:32:11Z</td>\n",
       "      <td>2011-01-03T14:47:11Z</td>\n",
       "      <td>73babadf-5b2b-fee7-189e-6f41ff213e01</td>\n",
       "      <td>d78e84ec-30aa-3bba-a33a-f29a3a454662</td>\n",
       "      <td>7caa7254-5050-3b5e-9eae-bd5ea30e809c</td>\n",
       "      <td>outpatient</td>\n",
       "      <td>185349003</td>\n",
       "      <td>Encounter for check up (procedure)</td>\n",
       "      <td>85.55</td>\n",
       "      <td>461.59</td>\n",
       "      <td>305.27</td>\n",
       "      <td>NaN</td>\n",
       "      <td>NaN</td>\n",
       "    </tr>\n",
       "    <tr>\n",
       "      <th>3</th>\n",
       "      <td>c3f4da61-e4b4-21d5-587a-fbc89943bc19</td>\n",
       "      <td>2011-01-03T16:24:45Z</td>\n",
       "      <td>2011-01-03T16:39:45Z</td>\n",
       "      <td>3b46a0b7-0f34-9b9a-c319-ace4a1f58c0b</td>\n",
       "      <td>d78e84ec-30aa-3bba-a33a-f29a3a454662</td>\n",
       "      <td>b1c428d6-4f07-31e0-90f0-68ffa6ff8c76</td>\n",
       "      <td>wellness</td>\n",
       "      <td>162673000</td>\n",
       "      <td>General examination of patient (procedure)</td>\n",
       "      <td>136.80</td>\n",
       "      <td>1784.24</td>\n",
       "      <td>0.00</td>\n",
       "      <td>NaN</td>\n",
       "      <td>NaN</td>\n",
       "    </tr>\n",
       "    <tr>\n",
       "      <th>4</th>\n",
       "      <td>a9183b4f-2572-72ea-54c2-b3cd038b4be7</td>\n",
       "      <td>2011-01-03T17:36:53Z</td>\n",
       "      <td>2011-01-03T17:51:53Z</td>\n",
       "      <td>fa006887-d93c-d302-8b89-f3c25f88c0e1</td>\n",
       "      <td>d78e84ec-30aa-3bba-a33a-f29a3a454662</td>\n",
       "      <td>42c4fca7-f8a9-3cd1-982a-dd9751bf3e2a</td>\n",
       "      <td>ambulatory</td>\n",
       "      <td>390906007</td>\n",
       "      <td>Follow-up encounter</td>\n",
       "      <td>85.55</td>\n",
       "      <td>234.72</td>\n",
       "      <td>0.00</td>\n",
       "      <td>55822004.0</td>\n",
       "      <td>Hyperlipidemia</td>\n",
       "    </tr>\n",
       "  </tbody>\n",
       "</table>\n",
       "</div>"
      ],
      "text/plain": [
       "                                     Id                 START  \\\n",
       "0  32c84703-2481-49cd-d571-3899d5820253  2011-01-02T09:26:36Z   \n",
       "1  c98059da-320a-c0a6-fced-c8815f3e3f39  2011-01-03T05:44:39Z   \n",
       "2  4ad28a3a-2479-782b-f29c-d5b3f41a001e  2011-01-03T14:32:11Z   \n",
       "3  c3f4da61-e4b4-21d5-587a-fbc89943bc19  2011-01-03T16:24:45Z   \n",
       "4  a9183b4f-2572-72ea-54c2-b3cd038b4be7  2011-01-03T17:36:53Z   \n",
       "\n",
       "                   STOP                               PATIENT  \\\n",
       "0  2011-01-02T12:58:36Z  3de74169-7f67-9304-91d4-757e0f3a14d2   \n",
       "1  2011-01-03T06:01:42Z  d9ec2e44-32e9-9148-179a-1653348cc4e2   \n",
       "2  2011-01-03T14:47:11Z  73babadf-5b2b-fee7-189e-6f41ff213e01   \n",
       "3  2011-01-03T16:39:45Z  3b46a0b7-0f34-9b9a-c319-ace4a1f58c0b   \n",
       "4  2011-01-03T17:51:53Z  fa006887-d93c-d302-8b89-f3c25f88c0e1   \n",
       "\n",
       "                           ORGANIZATION                                 PAYER  \\\n",
       "0  d78e84ec-30aa-3bba-a33a-f29a3a454662  b1c428d6-4f07-31e0-90f0-68ffa6ff8c76   \n",
       "1  d78e84ec-30aa-3bba-a33a-f29a3a454662  b1c428d6-4f07-31e0-90f0-68ffa6ff8c76   \n",
       "2  d78e84ec-30aa-3bba-a33a-f29a3a454662  7caa7254-5050-3b5e-9eae-bd5ea30e809c   \n",
       "3  d78e84ec-30aa-3bba-a33a-f29a3a454662  b1c428d6-4f07-31e0-90f0-68ffa6ff8c76   \n",
       "4  d78e84ec-30aa-3bba-a33a-f29a3a454662  42c4fca7-f8a9-3cd1-982a-dd9751bf3e2a   \n",
       "\n",
       "  ENCOUNTERCLASS       CODE                                 DESCRIPTION  \\\n",
       "0     ambulatory  185347001           Encounter for problem (procedure)   \n",
       "1     outpatient  308335008                 Patient encounter procedure   \n",
       "2     outpatient  185349003          Encounter for check up (procedure)   \n",
       "3       wellness  162673000  General examination of patient (procedure)   \n",
       "4     ambulatory  390906007                         Follow-up encounter   \n",
       "\n",
       "   BASE_ENCOUNTER_COST  TOTAL_CLAIM_COST  PAYER_COVERAGE  REASONCODE  \\\n",
       "0                85.55           1018.02            0.00         NaN   \n",
       "1               142.58           2619.36            0.00         NaN   \n",
       "2                85.55            461.59          305.27         NaN   \n",
       "3               136.80           1784.24            0.00         NaN   \n",
       "4                85.55            234.72            0.00  55822004.0   \n",
       "\n",
       "  REASONDESCRIPTION  \n",
       "0               NaN  \n",
       "1               NaN  \n",
       "2               NaN  \n",
       "3               NaN  \n",
       "4    Hyperlipidemia  "
      ]
     },
     "execution_count": 5,
     "metadata": {},
     "output_type": "execute_result"
    }
   ],
   "source": [
    "encounters.head()"
   ]
  },
  {
   "cell_type": "code",
   "execution_count": 6,
   "id": "59752ce0-f19e-4b49-837f-e979c786b114",
   "metadata": {},
   "outputs": [
    {
     "data": {
      "text/plain": [
       "(27891, 14)"
      ]
     },
     "execution_count": 6,
     "metadata": {},
     "output_type": "execute_result"
    }
   ],
   "source": [
    "encounters.shape"
   ]
  },
  {
   "cell_type": "code",
   "execution_count": 7,
   "id": "f67f33cd-4d2b-41b1-90ef-db99ad09509e",
   "metadata": {},
   "outputs": [
    {
     "name": "stdout",
     "output_type": "stream",
     "text": [
      "<class 'pandas.core.frame.DataFrame'>\n",
      "RangeIndex: 27891 entries, 0 to 27890\n",
      "Data columns (total 14 columns):\n",
      " #   Column               Non-Null Count  Dtype  \n",
      "---  ------               --------------  -----  \n",
      " 0   Id                   27891 non-null  object \n",
      " 1   START                27891 non-null  object \n",
      " 2   STOP                 27891 non-null  object \n",
      " 3   PATIENT              27891 non-null  object \n",
      " 4   ORGANIZATION         27891 non-null  object \n",
      " 5   PAYER                27891 non-null  object \n",
      " 6   ENCOUNTERCLASS       27891 non-null  object \n",
      " 7   CODE                 27891 non-null  int64  \n",
      " 8   DESCRIPTION          27891 non-null  object \n",
      " 9   BASE_ENCOUNTER_COST  27891 non-null  float64\n",
      " 10  TOTAL_CLAIM_COST     27891 non-null  float64\n",
      " 11  PAYER_COVERAGE       27891 non-null  float64\n",
      " 12  REASONCODE           8350 non-null   float64\n",
      " 13  REASONDESCRIPTION    8350 non-null   object \n",
      "dtypes: float64(4), int64(1), object(9)\n",
      "memory usage: 3.0+ MB\n"
     ]
    }
   ],
   "source": [
    "encounters.info()"
   ]
  },
  {
   "cell_type": "code",
   "execution_count": 8,
   "id": "e2b6378b-a572-4df2-9fa6-c9e7db67d2ae",
   "metadata": {},
   "outputs": [],
   "source": [
    "encounters['START']=pd.to_datetime(encounters['START'], utc=True)"
   ]
  },
  {
   "cell_type": "code",
   "execution_count": 9,
   "id": "48e27406-b09b-41fc-95e2-46b2caa09c20",
   "metadata": {},
   "outputs": [],
   "source": [
    "encounters['STOP']=pd.to_datetime(encounters['STOP'],utc=True)"
   ]
  },
  {
   "cell_type": "code",
   "execution_count": 10,
   "id": "c56d6db1-9f10-4306-93b7-dd918590ceae",
   "metadata": {},
   "outputs": [],
   "source": [
    "encounters['START']=pd.to_datetime(encounters['START']).dt.strftime('%Y-%m-%d %H:%M:%S')"
   ]
  },
  {
   "cell_type": "code",
   "execution_count": 11,
   "id": "d20e0c8b-7956-46ba-8685-876fd3a565e8",
   "metadata": {},
   "outputs": [],
   "source": [
    "encounters['STOP']=pd.to_datetime(encounters['STOP']).dt.strftime('%Y-%m-%d %H:%M:%S')"
   ]
  },
  {
   "cell_type": "code",
   "execution_count": 12,
   "id": "77ee5c57-3062-4b87-8c7c-5ffd87baca12",
   "metadata": {},
   "outputs": [],
   "source": [
    "encounters['START']=pd.to_datetime(encounters['START'], errors='coerce')"
   ]
  },
  {
   "cell_type": "code",
   "execution_count": 13,
   "id": "2868b155-db64-4bc3-bd24-49f801a975ee",
   "metadata": {},
   "outputs": [],
   "source": [
    "encounters['STOP']=pd.to_datetime(encounters['STOP'], errors='coerce')"
   ]
  },
  {
   "cell_type": "code",
   "execution_count": 14,
   "id": "e394eb53-7239-4b01-ab72-10cea6c9dd4a",
   "metadata": {},
   "outputs": [],
   "source": [
    "encounters['ENCOUNTERCLASS']=encounters['ENCOUNTERCLASS'].replace('ambulatory','outpatient')"
   ]
  },
  {
   "cell_type": "code",
   "execution_count": 15,
   "id": "ee67487e-8dd8-46af-a67e-65f57ec153c0",
   "metadata": {},
   "outputs": [
    {
     "data": {
      "text/html": [
       "<div>\n",
       "<style scoped>\n",
       "    .dataframe tbody tr th:only-of-type {\n",
       "        vertical-align: middle;\n",
       "    }\n",
       "\n",
       "    .dataframe tbody tr th {\n",
       "        vertical-align: top;\n",
       "    }\n",
       "\n",
       "    .dataframe thead th {\n",
       "        text-align: right;\n",
       "    }\n",
       "</style>\n",
       "<table border=\"1\" class=\"dataframe\">\n",
       "  <thead>\n",
       "    <tr style=\"text-align: right;\">\n",
       "      <th></th>\n",
       "      <th>Id</th>\n",
       "      <th>NAME</th>\n",
       "      <th>ADDRESS</th>\n",
       "      <th>CITY</th>\n",
       "      <th>STATE</th>\n",
       "      <th>ZIP</th>\n",
       "      <th>LAT</th>\n",
       "      <th>LON</th>\n",
       "    </tr>\n",
       "  </thead>\n",
       "  <tbody>\n",
       "    <tr>\n",
       "      <th>0</th>\n",
       "      <td>d78e84ec-30aa-3bba-a33a-f29a3a454662</td>\n",
       "      <td>MASSACHUSETTS GENERAL HOSPITAL</td>\n",
       "      <td>55 FRUIT STREET</td>\n",
       "      <td>BOSTON</td>\n",
       "      <td>MA</td>\n",
       "      <td>2114</td>\n",
       "      <td>42.362813</td>\n",
       "      <td>-71.069187</td>\n",
       "    </tr>\n",
       "  </tbody>\n",
       "</table>\n",
       "</div>"
      ],
      "text/plain": [
       "                                     Id                            NAME  \\\n",
       "0  d78e84ec-30aa-3bba-a33a-f29a3a454662  MASSACHUSETTS GENERAL HOSPITAL   \n",
       "\n",
       "           ADDRESS    CITY STATE   ZIP        LAT        LON  \n",
       "0  55 FRUIT STREET  BOSTON    MA  2114  42.362813 -71.069187  "
      ]
     },
     "execution_count": 15,
     "metadata": {},
     "output_type": "execute_result"
    }
   ],
   "source": [
    "organization.head()"
   ]
  },
  {
   "cell_type": "code",
   "execution_count": 16,
   "id": "8fe46adc-0622-4273-80ae-bff596490f95",
   "metadata": {},
   "outputs": [],
   "source": [
    "organization.drop(columns=['LAT','LON'], inplace=True)"
   ]
  },
  {
   "cell_type": "code",
   "execution_count": null,
   "id": "222d94a6-fb45-4be2-a202-7f2c1ff58c0e",
   "metadata": {},
   "outputs": [],
   "source": []
  },
  {
   "cell_type": "code",
   "execution_count": 17,
   "id": "182a73d8-92cc-4381-a5b8-e4830ebaf026",
   "metadata": {},
   "outputs": [
    {
     "data": {
      "text/html": [
       "<div>\n",
       "<style scoped>\n",
       "    .dataframe tbody tr th:only-of-type {\n",
       "        vertical-align: middle;\n",
       "    }\n",
       "\n",
       "    .dataframe tbody tr th {\n",
       "        vertical-align: top;\n",
       "    }\n",
       "\n",
       "    .dataframe thead th {\n",
       "        text-align: right;\n",
       "    }\n",
       "</style>\n",
       "<table border=\"1\" class=\"dataframe\">\n",
       "  <thead>\n",
       "    <tr style=\"text-align: right;\">\n",
       "      <th></th>\n",
       "      <th>Id</th>\n",
       "      <th>NAME</th>\n",
       "      <th>ADDRESS</th>\n",
       "      <th>CITY</th>\n",
       "      <th>STATE_HEADQUARTERED</th>\n",
       "      <th>ZIP</th>\n",
       "      <th>PHONE</th>\n",
       "    </tr>\n",
       "  </thead>\n",
       "  <tbody>\n",
       "    <tr>\n",
       "      <th>0</th>\n",
       "      <td>b3221cfc-24fb-339e-823d-bc4136cbc4ed</td>\n",
       "      <td>Dual Eligible</td>\n",
       "      <td>7500 Security Blvd</td>\n",
       "      <td>Baltimore</td>\n",
       "      <td>MD</td>\n",
       "      <td>21244.0</td>\n",
       "      <td>1-877-267-2323</td>\n",
       "    </tr>\n",
       "    <tr>\n",
       "      <th>1</th>\n",
       "      <td>7caa7254-5050-3b5e-9eae-bd5ea30e809c</td>\n",
       "      <td>Medicare</td>\n",
       "      <td>7500 Security Blvd</td>\n",
       "      <td>Baltimore</td>\n",
       "      <td>MD</td>\n",
       "      <td>21244.0</td>\n",
       "      <td>1-800-633-4227</td>\n",
       "    </tr>\n",
       "    <tr>\n",
       "      <th>2</th>\n",
       "      <td>7c4411ce-02f1-39b5-b9ec-dfbea9ad3c1a</td>\n",
       "      <td>Medicaid</td>\n",
       "      <td>7500 Security Blvd</td>\n",
       "      <td>Baltimore</td>\n",
       "      <td>MD</td>\n",
       "      <td>21244.0</td>\n",
       "      <td>1-877-267-2323</td>\n",
       "    </tr>\n",
       "    <tr>\n",
       "      <th>3</th>\n",
       "      <td>d47b3510-2895-3b70-9897-342d681c769d</td>\n",
       "      <td>Humana</td>\n",
       "      <td>500 West Main St</td>\n",
       "      <td>Louisville</td>\n",
       "      <td>KY</td>\n",
       "      <td>40018.0</td>\n",
       "      <td>1-844-330-7799</td>\n",
       "    </tr>\n",
       "    <tr>\n",
       "      <th>4</th>\n",
       "      <td>6e2f1a2d-27bd-3701-8d08-dae202c58632</td>\n",
       "      <td>Blue Cross Blue Shield</td>\n",
       "      <td>Michigan Plaza</td>\n",
       "      <td>Chicago</td>\n",
       "      <td>IL</td>\n",
       "      <td>60007.0</td>\n",
       "      <td>1-800-262-2583</td>\n",
       "    </tr>\n",
       "  </tbody>\n",
       "</table>\n",
       "</div>"
      ],
      "text/plain": [
       "                                     Id                    NAME  \\\n",
       "0  b3221cfc-24fb-339e-823d-bc4136cbc4ed           Dual Eligible   \n",
       "1  7caa7254-5050-3b5e-9eae-bd5ea30e809c                Medicare   \n",
       "2  7c4411ce-02f1-39b5-b9ec-dfbea9ad3c1a                Medicaid   \n",
       "3  d47b3510-2895-3b70-9897-342d681c769d                  Humana   \n",
       "4  6e2f1a2d-27bd-3701-8d08-dae202c58632  Blue Cross Blue Shield   \n",
       "\n",
       "              ADDRESS        CITY STATE_HEADQUARTERED      ZIP           PHONE  \n",
       "0  7500 Security Blvd   Baltimore                  MD  21244.0  1-877-267-2323  \n",
       "1  7500 Security Blvd   Baltimore                  MD  21244.0  1-800-633-4227  \n",
       "2  7500 Security Blvd   Baltimore                  MD  21244.0  1-877-267-2323  \n",
       "3    500 West Main St  Louisville                  KY  40018.0  1-844-330-7799  \n",
       "4      Michigan Plaza     Chicago                  IL  60007.0  1-800-262-2583  "
      ]
     },
     "execution_count": 17,
     "metadata": {},
     "output_type": "execute_result"
    }
   ],
   "source": [
    "payer.head()"
   ]
  },
  {
   "cell_type": "code",
   "execution_count": 18,
   "id": "24134712-b371-494a-94dd-e1e6d2f908c1",
   "metadata": {},
   "outputs": [
    {
     "data": {
      "text/plain": [
       "(10, 7)"
      ]
     },
     "execution_count": 18,
     "metadata": {},
     "output_type": "execute_result"
    }
   ],
   "source": [
    "payer.shape"
   ]
  },
  {
   "cell_type": "code",
   "execution_count": 19,
   "id": "80ca4251-a352-4883-9ac3-5cffee6e7d48",
   "metadata": {},
   "outputs": [
    {
     "name": "stdout",
     "output_type": "stream",
     "text": [
      "<class 'pandas.core.frame.DataFrame'>\n",
      "RangeIndex: 10 entries, 0 to 9\n",
      "Data columns (total 7 columns):\n",
      " #   Column               Non-Null Count  Dtype  \n",
      "---  ------               --------------  -----  \n",
      " 0   Id                   10 non-null     object \n",
      " 1   NAME                 10 non-null     object \n",
      " 2   ADDRESS              9 non-null      object \n",
      " 3   CITY                 9 non-null      object \n",
      " 4   STATE_HEADQUARTERED  9 non-null      object \n",
      " 5   ZIP                  9 non-null      float64\n",
      " 6   PHONE                9 non-null      object \n",
      "dtypes: float64(1), object(6)\n",
      "memory usage: 692.0+ bytes\n"
     ]
    }
   ],
   "source": [
    "payer.info()"
   ]
  },
  {
   "cell_type": "code",
   "execution_count": null,
   "id": "7ffda118-0a34-4fba-bf0a-d2b635d068f1",
   "metadata": {},
   "outputs": [],
   "source": []
  },
  {
   "cell_type": "code",
   "execution_count": 20,
   "id": "79cb2c30-d900-4b21-9050-e080261a7b64",
   "metadata": {},
   "outputs": [
    {
     "data": {
      "text/html": [
       "<div>\n",
       "<style scoped>\n",
       "    .dataframe tbody tr th:only-of-type {\n",
       "        vertical-align: middle;\n",
       "    }\n",
       "\n",
       "    .dataframe tbody tr th {\n",
       "        vertical-align: top;\n",
       "    }\n",
       "\n",
       "    .dataframe thead th {\n",
       "        text-align: right;\n",
       "    }\n",
       "</style>\n",
       "<table border=\"1\" class=\"dataframe\">\n",
       "  <thead>\n",
       "    <tr style=\"text-align: right;\">\n",
       "      <th></th>\n",
       "      <th>Id</th>\n",
       "      <th>BIRTHDATE</th>\n",
       "      <th>DEATHDATE</th>\n",
       "      <th>PREFIX</th>\n",
       "      <th>FIRST</th>\n",
       "      <th>LAST</th>\n",
       "      <th>SUFFIX</th>\n",
       "      <th>MAIDEN</th>\n",
       "      <th>MARITAL</th>\n",
       "      <th>RACE</th>\n",
       "      <th>ETHNICITY</th>\n",
       "      <th>GENDER</th>\n",
       "      <th>BIRTHPLACE</th>\n",
       "      <th>ADDRESS</th>\n",
       "      <th>CITY</th>\n",
       "      <th>STATE</th>\n",
       "      <th>COUNTY</th>\n",
       "      <th>ZIP</th>\n",
       "      <th>LAT</th>\n",
       "      <th>LON</th>\n",
       "    </tr>\n",
       "  </thead>\n",
       "  <tbody>\n",
       "    <tr>\n",
       "      <th>0</th>\n",
       "      <td>5605b66b-e92d-c16c-1b83-b8bf7040d51f</td>\n",
       "      <td>1977-03-19</td>\n",
       "      <td>NaN</td>\n",
       "      <td>Mrs.</td>\n",
       "      <td>Nikita578</td>\n",
       "      <td>Erdman779</td>\n",
       "      <td>NaN</td>\n",
       "      <td>Leannon79</td>\n",
       "      <td>M</td>\n",
       "      <td>white</td>\n",
       "      <td>nonhispanic</td>\n",
       "      <td>F</td>\n",
       "      <td>Wakefield  Massachusetts  US</td>\n",
       "      <td>510 Little Station Unit 69</td>\n",
       "      <td>Quincy</td>\n",
       "      <td>Massachusetts</td>\n",
       "      <td>Norfolk County</td>\n",
       "      <td>2186.0</td>\n",
       "      <td>42.290937</td>\n",
       "      <td>-70.975503</td>\n",
       "    </tr>\n",
       "    <tr>\n",
       "      <th>1</th>\n",
       "      <td>6e5ae27c-8038-7988-e2c0-25a103f01bfa</td>\n",
       "      <td>1940-02-19</td>\n",
       "      <td>NaN</td>\n",
       "      <td>Mr.</td>\n",
       "      <td>Zane918</td>\n",
       "      <td>Hodkiewicz467</td>\n",
       "      <td>NaN</td>\n",
       "      <td>NaN</td>\n",
       "      <td>M</td>\n",
       "      <td>white</td>\n",
       "      <td>nonhispanic</td>\n",
       "      <td>M</td>\n",
       "      <td>Brookline  Massachusetts  US</td>\n",
       "      <td>747 Conn Throughway</td>\n",
       "      <td>Boston</td>\n",
       "      <td>Massachusetts</td>\n",
       "      <td>Suffolk County</td>\n",
       "      <td>2135.0</td>\n",
       "      <td>42.308831</td>\n",
       "      <td>-71.063162</td>\n",
       "    </tr>\n",
       "    <tr>\n",
       "      <th>2</th>\n",
       "      <td>8123d076-0886-9007-e956-d5864aa121a7</td>\n",
       "      <td>1958-06-04</td>\n",
       "      <td>NaN</td>\n",
       "      <td>Mr.</td>\n",
       "      <td>Quinn173</td>\n",
       "      <td>Marquardt819</td>\n",
       "      <td>NaN</td>\n",
       "      <td>NaN</td>\n",
       "      <td>M</td>\n",
       "      <td>white</td>\n",
       "      <td>nonhispanic</td>\n",
       "      <td>M</td>\n",
       "      <td>Gardner  Massachusetts  US</td>\n",
       "      <td>816 Okuneva Extension Apt 91</td>\n",
       "      <td>Quincy</td>\n",
       "      <td>Massachusetts</td>\n",
       "      <td>Norfolk County</td>\n",
       "      <td>2170.0</td>\n",
       "      <td>42.265177</td>\n",
       "      <td>-70.967085</td>\n",
       "    </tr>\n",
       "    <tr>\n",
       "      <th>3</th>\n",
       "      <td>770518e4-6133-648e-60c9-071eb2f0e2ce</td>\n",
       "      <td>1928-12-25</td>\n",
       "      <td>2017-09-29</td>\n",
       "      <td>Mr.</td>\n",
       "      <td>Abel832</td>\n",
       "      <td>Smitham825</td>\n",
       "      <td>NaN</td>\n",
       "      <td>NaN</td>\n",
       "      <td>M</td>\n",
       "      <td>white</td>\n",
       "      <td>hispanic</td>\n",
       "      <td>M</td>\n",
       "      <td>Randolph  Massachusetts  US</td>\n",
       "      <td>127 Cole Way Unit 95</td>\n",
       "      <td>Boston</td>\n",
       "      <td>Massachusetts</td>\n",
       "      <td>Suffolk County</td>\n",
       "      <td>2118.0</td>\n",
       "      <td>42.334304</td>\n",
       "      <td>-71.066801</td>\n",
       "    </tr>\n",
       "    <tr>\n",
       "      <th>4</th>\n",
       "      <td>f96addf5-81b9-0aab-7855-d208d3d352c5</td>\n",
       "      <td>1928-12-25</td>\n",
       "      <td>2014-02-23</td>\n",
       "      <td>Mr.</td>\n",
       "      <td>Edwin773</td>\n",
       "      <td>Labadie908</td>\n",
       "      <td>NaN</td>\n",
       "      <td>NaN</td>\n",
       "      <td>M</td>\n",
       "      <td>white</td>\n",
       "      <td>hispanic</td>\n",
       "      <td>M</td>\n",
       "      <td>Stow  Massachusetts  US</td>\n",
       "      <td>976 Ziemann Gateway</td>\n",
       "      <td>Boston</td>\n",
       "      <td>Massachusetts</td>\n",
       "      <td>Suffolk County</td>\n",
       "      <td>2125.0</td>\n",
       "      <td>42.346771</td>\n",
       "      <td>-71.058813</td>\n",
       "    </tr>\n",
       "  </tbody>\n",
       "</table>\n",
       "</div>"
      ],
      "text/plain": [
       "                                     Id   BIRTHDATE   DEATHDATE PREFIX  \\\n",
       "0  5605b66b-e92d-c16c-1b83-b8bf7040d51f  1977-03-19         NaN   Mrs.   \n",
       "1  6e5ae27c-8038-7988-e2c0-25a103f01bfa  1940-02-19         NaN    Mr.   \n",
       "2  8123d076-0886-9007-e956-d5864aa121a7  1958-06-04         NaN    Mr.   \n",
       "3  770518e4-6133-648e-60c9-071eb2f0e2ce  1928-12-25  2017-09-29    Mr.   \n",
       "4  f96addf5-81b9-0aab-7855-d208d3d352c5  1928-12-25  2014-02-23    Mr.   \n",
       "\n",
       "       FIRST           LAST SUFFIX     MAIDEN MARITAL   RACE    ETHNICITY  \\\n",
       "0  Nikita578      Erdman779    NaN  Leannon79       M  white  nonhispanic   \n",
       "1    Zane918  Hodkiewicz467    NaN        NaN       M  white  nonhispanic   \n",
       "2   Quinn173   Marquardt819    NaN        NaN       M  white  nonhispanic   \n",
       "3    Abel832     Smitham825    NaN        NaN       M  white     hispanic   \n",
       "4   Edwin773     Labadie908    NaN        NaN       M  white     hispanic   \n",
       "\n",
       "  GENDER                    BIRTHPLACE                       ADDRESS    CITY  \\\n",
       "0      F  Wakefield  Massachusetts  US    510 Little Station Unit 69  Quincy   \n",
       "1      M  Brookline  Massachusetts  US           747 Conn Throughway  Boston   \n",
       "2      M    Gardner  Massachusetts  US  816 Okuneva Extension Apt 91  Quincy   \n",
       "3      M   Randolph  Massachusetts  US          127 Cole Way Unit 95  Boston   \n",
       "4      M       Stow  Massachusetts  US           976 Ziemann Gateway  Boston   \n",
       "\n",
       "           STATE          COUNTY     ZIP        LAT        LON  \n",
       "0  Massachusetts  Norfolk County  2186.0  42.290937 -70.975503  \n",
       "1  Massachusetts  Suffolk County  2135.0  42.308831 -71.063162  \n",
       "2  Massachusetts  Norfolk County  2170.0  42.265177 -70.967085  \n",
       "3  Massachusetts  Suffolk County  2118.0  42.334304 -71.066801  \n",
       "4  Massachusetts  Suffolk County  2125.0  42.346771 -71.058813  "
      ]
     },
     "execution_count": 20,
     "metadata": {},
     "output_type": "execute_result"
    }
   ],
   "source": [
    "patients.head()"
   ]
  },
  {
   "cell_type": "code",
   "execution_count": 21,
   "id": "b5a75af8-7e73-4427-93f5-860c7dbff0b7",
   "metadata": {},
   "outputs": [
    {
     "data": {
      "text/plain": [
       "(974, 20)"
      ]
     },
     "execution_count": 21,
     "metadata": {},
     "output_type": "execute_result"
    }
   ],
   "source": [
    "patients.shape"
   ]
  },
  {
   "cell_type": "code",
   "execution_count": 22,
   "id": "6f50dce8-93a9-4c06-aac1-4f47b2036bbd",
   "metadata": {},
   "outputs": [
    {
     "name": "stdout",
     "output_type": "stream",
     "text": [
      "<class 'pandas.core.frame.DataFrame'>\n",
      "RangeIndex: 974 entries, 0 to 973\n",
      "Data columns (total 20 columns):\n",
      " #   Column      Non-Null Count  Dtype  \n",
      "---  ------      --------------  -----  \n",
      " 0   Id          974 non-null    object \n",
      " 1   BIRTHDATE   974 non-null    object \n",
      " 2   DEATHDATE   154 non-null    object \n",
      " 3   PREFIX      974 non-null    object \n",
      " 4   FIRST       974 non-null    object \n",
      " 5   LAST        974 non-null    object \n",
      " 6   SUFFIX      21 non-null     object \n",
      " 7   MAIDEN      386 non-null    object \n",
      " 8   MARITAL     973 non-null    object \n",
      " 9   RACE        974 non-null    object \n",
      " 10  ETHNICITY   974 non-null    object \n",
      " 11  GENDER      974 non-null    object \n",
      " 12  BIRTHPLACE  974 non-null    object \n",
      " 13  ADDRESS     974 non-null    object \n",
      " 14  CITY        974 non-null    object \n",
      " 15  STATE       974 non-null    object \n",
      " 16  COUNTY      974 non-null    object \n",
      " 17  ZIP         832 non-null    float64\n",
      " 18  LAT         974 non-null    float64\n",
      " 19  LON         974 non-null    float64\n",
      "dtypes: float64(3), object(17)\n",
      "memory usage: 152.3+ KB\n"
     ]
    }
   ],
   "source": [
    "patients.info()"
   ]
  },
  {
   "cell_type": "code",
   "execution_count": 23,
   "id": "dbc7f1b1-6ae5-408a-8887-84d522d6d4e4",
   "metadata": {},
   "outputs": [],
   "source": [
    "patients.drop(columns=['LAT','LON'], inplace=True)"
   ]
  },
  {
   "cell_type": "code",
   "execution_count": 24,
   "id": "dc0d8fab-10fa-4bcb-ac66-8f55685e9988",
   "metadata": {},
   "outputs": [],
   "source": [
    "patients['BIRTHDATE']=pd.to_datetime(patients['BIRTHDATE'])"
   ]
  },
  {
   "cell_type": "code",
   "execution_count": 25,
   "id": "1fafdb34-fc04-45dd-90fc-e9888a868840",
   "metadata": {},
   "outputs": [],
   "source": [
    "patients['DEATHDATE']=pd.to_datetime(patients['DEATHDATE'])"
   ]
  },
  {
   "cell_type": "code",
   "execution_count": 26,
   "id": "470cfd40-f2fa-4ffd-ad01-7a2ed358256e",
   "metadata": {},
   "outputs": [],
   "source": [
    "patients.replace({'NaT':r'\\N'}, inplace=True)"
   ]
  },
  {
   "cell_type": "code",
   "execution_count": 27,
   "id": "6df966ea-b5f6-4624-902c-752270d222b0",
   "metadata": {},
   "outputs": [],
   "source": [
    "patients['FIRST_NAME']=patients['FIRST'].str.replace(r'\\d+','',regex=True)"
   ]
  },
  {
   "cell_type": "code",
   "execution_count": 28,
   "id": "3cf558c1-8199-43ea-b716-b0977cdd17b4",
   "metadata": {},
   "outputs": [],
   "source": [
    "patients['LAST_NAME']=patients['LAST'].str.replace(r'\\d+','',regex=True)"
   ]
  },
  {
   "cell_type": "code",
   "execution_count": 29,
   "id": "30d61a11-1d1b-4e46-9c59-4955e69bc6dc",
   "metadata": {},
   "outputs": [],
   "source": [
    "patients['MAIDEN_NAME']=patients['MAIDEN'].str.replace(r'\\d+','',regex=True)"
   ]
  },
  {
   "cell_type": "code",
   "execution_count": 30,
   "id": "7ce9f4c1-ae0a-4a63-8b4f-303beb0fbc8e",
   "metadata": {},
   "outputs": [],
   "source": [
    "patients.drop(columns=['FIRST', 'LAST'], inplace=True)"
   ]
  },
  {
   "cell_type": "code",
   "execution_count": 31,
   "id": "1b2c6c74-e117-460d-81fe-5490d71bbb98",
   "metadata": {},
   "outputs": [],
   "source": [
    "patients.drop(columns=['MAIDEN'], inplace=True)"
   ]
  },
  {
   "cell_type": "code",
   "execution_count": 32,
   "id": "1cf34751-2125-402d-9fe9-276575ed771e",
   "metadata": {},
   "outputs": [],
   "source": [
    "patients=patients[['Id','BIRTHDATE','DEATHDATE','PREFIX','SUFFIX','FIRST_NAME','LAST_NAME','MAIDEN_NAME','MARITAL','RACE','ETHNICITY'\n",
    "                 ,'GENDER','BIRTHPLACE','ADDRESS','CITY','STATE','COUNTY','ZIP']]"
   ]
  },
  {
   "cell_type": "code",
   "execution_count": null,
   "id": "77e8876b-fbca-4c98-b462-99943002e851",
   "metadata": {},
   "outputs": [],
   "source": []
  },
  {
   "cell_type": "code",
   "execution_count": 33,
   "id": "7fa485f1-0960-420e-aceb-307511896b0c",
   "metadata": {},
   "outputs": [
    {
     "data": {
      "text/html": [
       "<div>\n",
       "<style scoped>\n",
       "    .dataframe tbody tr th:only-of-type {\n",
       "        vertical-align: middle;\n",
       "    }\n",
       "\n",
       "    .dataframe tbody tr th {\n",
       "        vertical-align: top;\n",
       "    }\n",
       "\n",
       "    .dataframe thead th {\n",
       "        text-align: right;\n",
       "    }\n",
       "</style>\n",
       "<table border=\"1\" class=\"dataframe\">\n",
       "  <thead>\n",
       "    <tr style=\"text-align: right;\">\n",
       "      <th></th>\n",
       "      <th>START</th>\n",
       "      <th>STOP</th>\n",
       "      <th>PATIENT</th>\n",
       "      <th>ENCOUNTER</th>\n",
       "      <th>CODE</th>\n",
       "      <th>DESCRIPTION</th>\n",
       "      <th>BASE_COST</th>\n",
       "      <th>REASONCODE</th>\n",
       "      <th>REASONDESCRIPTION</th>\n",
       "    </tr>\n",
       "  </thead>\n",
       "  <tbody>\n",
       "    <tr>\n",
       "      <th>0</th>\n",
       "      <td>2011-01-02T09:26:36Z</td>\n",
       "      <td>2011-01-02T12:58:36Z</td>\n",
       "      <td>3de74169-7f67-9304-91d4-757e0f3a14d2</td>\n",
       "      <td>32c84703-2481-49cd-d571-3899d5820253</td>\n",
       "      <td>265764009</td>\n",
       "      <td>Renal dialysis (procedure)</td>\n",
       "      <td>903</td>\n",
       "      <td>NaN</td>\n",
       "      <td>NaN</td>\n",
       "    </tr>\n",
       "    <tr>\n",
       "      <th>1</th>\n",
       "      <td>2011-01-03T05:44:39Z</td>\n",
       "      <td>2011-01-03T06:01:42Z</td>\n",
       "      <td>d9ec2e44-32e9-9148-179a-1653348cc4e2</td>\n",
       "      <td>c98059da-320a-c0a6-fced-c8815f3e3f39</td>\n",
       "      <td>76601001</td>\n",
       "      <td>Intramuscular injection</td>\n",
       "      <td>2477</td>\n",
       "      <td>NaN</td>\n",
       "      <td>NaN</td>\n",
       "    </tr>\n",
       "    <tr>\n",
       "      <th>2</th>\n",
       "      <td>2011-01-04T14:49:55Z</td>\n",
       "      <td>2011-01-04T15:04:55Z</td>\n",
       "      <td>d856d6e6-4c98-e7a2-129b-44076c63d008</td>\n",
       "      <td>2cfd4ddd-ad13-fe1e-528b-15051cea2ec3</td>\n",
       "      <td>703423002</td>\n",
       "      <td>Combined chemotherapy and radiation therapy (p...</td>\n",
       "      <td>11620</td>\n",
       "      <td>363406005.0</td>\n",
       "      <td>Malignant tumor of colon</td>\n",
       "    </tr>\n",
       "    <tr>\n",
       "      <th>3</th>\n",
       "      <td>2011-01-05T04:02:09Z</td>\n",
       "      <td>2011-01-05T04:17:09Z</td>\n",
       "      <td>bc9d59c3-0a30-6e3b-f47d-022e4f03c8de</td>\n",
       "      <td>17966936-0878-f4db-128b-a43ae10d0878</td>\n",
       "      <td>173160006</td>\n",
       "      <td>Diagnostic fiberoptic bronchoscopy (procedure)</td>\n",
       "      <td>9796</td>\n",
       "      <td>162573006.0</td>\n",
       "      <td>Suspected lung cancer (situation)</td>\n",
       "    </tr>\n",
       "    <tr>\n",
       "      <th>4</th>\n",
       "      <td>2011-01-05T12:58:36Z</td>\n",
       "      <td>2011-01-05T16:42:36Z</td>\n",
       "      <td>3de74169-7f67-9304-91d4-757e0f3a14d2</td>\n",
       "      <td>9de5f0b0-4ba4-ce6f-45fb-b55c202f31a5</td>\n",
       "      <td>265764009</td>\n",
       "      <td>Renal dialysis (procedure)</td>\n",
       "      <td>1255</td>\n",
       "      <td>NaN</td>\n",
       "      <td>NaN</td>\n",
       "    </tr>\n",
       "  </tbody>\n",
       "</table>\n",
       "</div>"
      ],
      "text/plain": [
       "                  START                  STOP  \\\n",
       "0  2011-01-02T09:26:36Z  2011-01-02T12:58:36Z   \n",
       "1  2011-01-03T05:44:39Z  2011-01-03T06:01:42Z   \n",
       "2  2011-01-04T14:49:55Z  2011-01-04T15:04:55Z   \n",
       "3  2011-01-05T04:02:09Z  2011-01-05T04:17:09Z   \n",
       "4  2011-01-05T12:58:36Z  2011-01-05T16:42:36Z   \n",
       "\n",
       "                                PATIENT                             ENCOUNTER  \\\n",
       "0  3de74169-7f67-9304-91d4-757e0f3a14d2  32c84703-2481-49cd-d571-3899d5820253   \n",
       "1  d9ec2e44-32e9-9148-179a-1653348cc4e2  c98059da-320a-c0a6-fced-c8815f3e3f39   \n",
       "2  d856d6e6-4c98-e7a2-129b-44076c63d008  2cfd4ddd-ad13-fe1e-528b-15051cea2ec3   \n",
       "3  bc9d59c3-0a30-6e3b-f47d-022e4f03c8de  17966936-0878-f4db-128b-a43ae10d0878   \n",
       "4  3de74169-7f67-9304-91d4-757e0f3a14d2  9de5f0b0-4ba4-ce6f-45fb-b55c202f31a5   \n",
       "\n",
       "        CODE                                        DESCRIPTION  BASE_COST  \\\n",
       "0  265764009                         Renal dialysis (procedure)        903   \n",
       "1   76601001                            Intramuscular injection       2477   \n",
       "2  703423002  Combined chemotherapy and radiation therapy (p...      11620   \n",
       "3  173160006     Diagnostic fiberoptic bronchoscopy (procedure)       9796   \n",
       "4  265764009                         Renal dialysis (procedure)       1255   \n",
       "\n",
       "    REASONCODE                  REASONDESCRIPTION  \n",
       "0          NaN                                NaN  \n",
       "1          NaN                                NaN  \n",
       "2  363406005.0           Malignant tumor of colon  \n",
       "3  162573006.0  Suspected lung cancer (situation)  \n",
       "4          NaN                                NaN  "
      ]
     },
     "execution_count": 33,
     "metadata": {},
     "output_type": "execute_result"
    }
   ],
   "source": [
    "procedure.head()"
   ]
  },
  {
   "cell_type": "code",
   "execution_count": 34,
   "id": "8248191c-5056-49fe-a4d5-6054ca53b3ca",
   "metadata": {},
   "outputs": [
    {
     "data": {
      "text/plain": [
       "(47701, 9)"
      ]
     },
     "execution_count": 34,
     "metadata": {},
     "output_type": "execute_result"
    }
   ],
   "source": [
    "procedure.shape"
   ]
  },
  {
   "cell_type": "code",
   "execution_count": 35,
   "id": "6c37c2c9-80c0-404b-9f15-e1b367c7eb09",
   "metadata": {},
   "outputs": [
    {
     "name": "stdout",
     "output_type": "stream",
     "text": [
      "<class 'pandas.core.frame.DataFrame'>\n",
      "RangeIndex: 47701 entries, 0 to 47700\n",
      "Data columns (total 9 columns):\n",
      " #   Column             Non-Null Count  Dtype  \n",
      "---  ------             --------------  -----  \n",
      " 0   START              47701 non-null  object \n",
      " 1   STOP               47701 non-null  object \n",
      " 2   PATIENT            47701 non-null  object \n",
      " 3   ENCOUNTER          47701 non-null  object \n",
      " 4   CODE               47701 non-null  int64  \n",
      " 5   DESCRIPTION        47701 non-null  object \n",
      " 6   BASE_COST          47701 non-null  int64  \n",
      " 7   REASONCODE         10756 non-null  float64\n",
      " 8   REASONDESCRIPTION  10756 non-null  object \n",
      "dtypes: float64(1), int64(2), object(6)\n",
      "memory usage: 3.3+ MB\n"
     ]
    }
   ],
   "source": [
    "procedure.info()"
   ]
  },
  {
   "cell_type": "code",
   "execution_count": 36,
   "id": "c2a287c9-7953-452b-affd-7f1d05217db6",
   "metadata": {},
   "outputs": [],
   "source": [
    "procedure['START']=pd.to_datetime(procedure['START']).dt.strftime('%Y-%m-%d %H:%M:%S')"
   ]
  },
  {
   "cell_type": "code",
   "execution_count": 37,
   "id": "d4bf471e-45bd-4528-a53e-0f62d980200f",
   "metadata": {},
   "outputs": [],
   "source": [
    "procedure['STOP']=pd.to_datetime(procedure['STOP']).dt.strftime('%Y-%m-%d %H:%M:%S')"
   ]
  },
  {
   "cell_type": "code",
   "execution_count": 38,
   "id": "e67e3d43-c257-4c1b-937c-2dd5c87aef79",
   "metadata": {},
   "outputs": [],
   "source": [
    "procedure['START']=pd.to_datetime(procedure['START'])"
   ]
  },
  {
   "cell_type": "code",
   "execution_count": 39,
   "id": "a0200952-002b-4d56-b818-2d05d3c8edea",
   "metadata": {},
   "outputs": [],
   "source": [
    "procedure['STOP']=pd.to_datetime(procedure['STOP'])"
   ]
  },
  {
   "cell_type": "code",
   "execution_count": 40,
   "id": "aa5fb5d0-d8a2-4326-ac0f-6139799d08c3",
   "metadata": {},
   "outputs": [],
   "source": [
    "encounters.to_csv('encounters_cleaned.csv', index=False)\n",
    "organization.to_csv('organization_cleaned.csv', index=False)\n",
    "payer.to_csv('payer_cleaned.csv', index=False)\n",
    "patients.to_csv('patient_cleaned.csv', index=False)\n",
    "procedure.to_csv('procedure_cleaned.csv', index=False)"
   ]
  }
 ],
 "metadata": {
  "kernelspec": {
   "display_name": "Python 3 (ipykernel)",
   "language": "python",
   "name": "python3"
  },
  "language_info": {
   "codemirror_mode": {
    "name": "ipython",
    "version": 3
   },
   "file_extension": ".py",
   "mimetype": "text/x-python",
   "name": "python",
   "nbconvert_exporter": "python",
   "pygments_lexer": "ipython3",
   "version": "3.13.2"
  }
 },
 "nbformat": 4,
 "nbformat_minor": 5
}
